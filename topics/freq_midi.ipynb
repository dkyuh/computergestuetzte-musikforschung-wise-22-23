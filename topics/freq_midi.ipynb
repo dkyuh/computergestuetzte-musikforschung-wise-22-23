{
 "cells": [
  {
   "cell_type": "code",
   "execution_count": 1,
   "metadata": {
    "id": "E2lc3JwP3KyQ"
   },
   "outputs": [],
   "source": [
    "import numpy as np\n",
    "import matplotlib.pyplot as plt"
   ]
  },
  {
   "cell_type": "markdown",
   "metadata": {
    "id": "BMwYbRpsxCz_"
   },
   "source": [
    "## MIDI-Pitch - Frequenz"
   ]
  },
  {
   "cell_type": "markdown",
   "metadata": {
    "id": "7x6-XhIX1Alb"
   },
   "source": [
    "$f = 440 \\cdot 2^{\\frac{p - 69}{12}}$"
   ]
  },
  {
   "cell_type": "code",
   "execution_count": 2,
   "metadata": {
    "id": "3JkRxOWczQXl"
   },
   "outputs": [],
   "source": [
    "def mtof(p):\n",
    "    return 440 * 2 ** ((p - 69) / 12)"
   ]
  },
  {
   "cell_type": "code",
   "execution_count": 3,
   "metadata": {
    "colab": {
     "base_uri": "https://localhost:8080/"
    },
    "id": "AOIfLTzo0YxP",
    "outputId": "efe06a10-5c43-407f-d655-fb2154337863"
   },
   "outputs": [
    {
     "name": "stdout",
     "output_type": "stream",
     "text": [
      "440.0\n",
      "880.0\n",
      "220.0\n",
      "466.1637615180899\n",
      "261.6255653005986\n",
      "452.8929841231365\n"
     ]
    }
   ],
   "source": [
    "print(mtof(69))\n",
    "print(mtof(69 + 12))\n",
    "print(mtof(69 - 12))\n",
    "print(mtof(69 + 1))\n",
    "print(mtof(60))\n",
    "print(mtof(69 + 0.5))"
   ]
  },
  {
   "cell_type": "markdown",
   "metadata": {
    "id": "4CjlsHYV3bD3"
   },
   "source": [
    "$$\\begin{eqnarray}\n",
    "f &=& 440 \\cdot 2^{\\frac{p - 69}{12}} &|& \\cdot \\frac{1}{440}\\\\\n",
    "\\frac{f}{440} &=& 2^{\\frac{p - 69}{12}} &|& \\log_2 \\\\\n",
    "\\log_2{\\left(\\frac{f}{440}\\right)} &=& \\frac{p - 69}{12} &|& \\cdot 12 \\\\\n",
    "12 \\cdot \\log_2{\\left(\\frac{f}{440}\\right)} &=& p - 69 &|& + 69 \\\\\n",
    "12 \\cdot \\log_2{\\left(\\frac{f}{440}\\right)} + 69 &=& p \\\\\n",
    "\\end{eqnarray}$$"
   ]
  },
  {
   "cell_type": "code",
   "execution_count": 4,
   "metadata": {
    "id": "bToFCNyj00yJ"
   },
   "outputs": [],
   "source": [
    "def ftom(f):\n",
    "    return 12 * np.log2(f / 440) + 69"
   ]
  },
  {
   "cell_type": "code",
   "execution_count": 5,
   "metadata": {
    "colab": {
     "base_uri": "https://localhost:8080/"
    },
    "id": "z4im6J-F3Qt4",
    "outputId": "c54e60ef-dfa3-4b98-93aa-ba76cb0a5576"
   },
   "outputs": [
    {
     "name": "stdout",
     "output_type": "stream",
     "text": [
      "69.0\n",
      "81.0\n",
      "57.0\n",
      "70.0\n",
      "60.0\n",
      "69.5\n"
     ]
    }
   ],
   "source": [
    "print(ftom(440.0))\n",
    "print(ftom(880.0))\n",
    "print(ftom(220.0))\n",
    "print(ftom(466.1637615180899))\n",
    "print(ftom(261.6255653005986))\n",
    "print(ftom(452.8929841231365))"
   ]
  },
  {
   "cell_type": "code",
   "execution_count": 7,
   "metadata": {
    "colab": {
     "base_uri": "https://localhost:8080/",
     "height": 316
    },
    "id": "mgY9D4e8xCLk",
    "outputId": "5368550e-126a-4f9f-f6b2-dccee8f2ac4a"
   },
   "outputs": [
    {
     "name": "stdout",
     "output_type": "stream",
     "text": [
      "27.5\n"
     ]
    },
    {
     "data": {
      "image/png": "[encoded data removed]",
      "text/plain": [
       "<Figure size 432x288 with 1 Axes>"
      ]
     },
     "metadata": {
      "needs_background": "light"
     },
     "output_type": "display_data"
    }
   ],
   "source": [
    "pitches = np.arange(21, 128)\n",
    "\n",
    "print(mtof(pitches[0]))\n",
    "\n",
    "plt.plot(mtof(pitches))\n",
    "plt.xlabel('MIDI-Pitches')\n",
    "plt.ylabel('Freq. in Hz')\n",
    "plt.show()"
   ]
  },
  {
   "cell_type": "code",
   "execution_count": 8,
   "metadata": {
    "colab": {
     "base_uri": "https://localhost:8080/",
     "height": 303
    },
    "id": "rW06lQDm4-ou",
    "outputId": "cd8bf21c-81f0-4cc0-c693-89f0dccef539"
   },
   "outputs": [
    {
     "data": {
      "image/png": "[encoded data removed]",
      "text/plain": [
       "<Figure size 432x288 with 1 Axes>"
      ]
     },
     "metadata": {
      "needs_background": "light"
     },
     "output_type": "display_data"
    }
   ],
   "source": [
    "freqs = np.linspace(20, 20000, 200)\n",
    "\n",
    "\n",
    "plt.plot(freqs, ftom(freqs))\n",
    "plt.xlabel('Freq in Hz')\n",
    "plt.ylabel('MIDI-Pitches')\n",
    "plt.show()"
   ]
  }
 ],
 "metadata": {
  "anaconda-cloud": {},
  "colab": {
   "provenance": []
  },
  "kernelspec": {
   "display_name": "Python 3 (ipykernel)",
   "language": "python",
   "name": "python3"
  },
  "language_info": {
   "codemirror_mode": {
    "name": "ipython",
    "version": 3
   },
   "file_extension": ".py",
   "mimetype": "text/x-python",
   "name": "python",
   "nbconvert_exporter": "python",
   "pygments_lexer": "ipython3",
   "version": "3.9.11"
  }
 },
 "nbformat": 4,
 "nbformat_minor": 1
}

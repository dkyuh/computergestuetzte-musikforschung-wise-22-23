{
 "cells": [
  {
   "cell_type": "markdown",
   "id": "1a6c507d",
   "metadata": {},
   "source": [
    "# Numpy\n"
   ]
  },
  {
   "cell_type": "code",
   "execution_count": 1,
   "id": "c05b3606",
   "metadata": {},
   "outputs": [],
   "source": [
    "import numpy as np"
   ]
  },
  {
   "cell_type": "markdown",
   "id": "9963dc9f",
   "metadata": {},
   "source": [
    "## Numpy-Arrays vs. Listen\n",
    "\n",
    "### elementweise Operationen"
   ]
  },
  {
   "cell_type": "code",
   "execution_count": null,
   "id": "25db98a5",
   "metadata": {},
   "outputs": [],
   "source": [
    "# liste\n",
    "l = [5, 2, 50, 1]\n",
    "# np-array\n",
    "a = np.array([5, 2, 50, 1])"
   ]
  },
  {
   "cell_type": "code",
   "execution_count": null,
   "id": "8524af6b",
   "metadata": {},
   "outputs": [],
   "source": [
    "# `append`\n",
    "l + [40, 100, 398, 4]"
   ]
  },
  {
   "cell_type": "markdown",
   "id": "77b1771b",
   "metadata": {},
   "source": [
    "    [5, 2, 50, 1, 40, 100, 398, 4]\n"
   ]
  },
  {
   "cell_type": "code",
   "execution_count": null,
   "id": "b12630fa",
   "metadata": {},
   "outputs": [],
   "source": [
    "# elementweise\n",
    "a + np.array([40, 100, 398, 4])\n",
    "\n",
    "# a + np.array([40, 100, 398, 4, 10]) # wirft einen error wegen ungleicher anzahl an elementen"
   ]
  },
  {
   "cell_type": "markdown",
   "id": "6d97d71e",
   "metadata": {},
   "source": [
    "    array([ 45, 102, 448,   5])\n"
   ]
  },
  {
   "cell_type": "code",
   "execution_count": null,
   "id": "a0a7b8bb",
   "metadata": {},
   "outputs": [],
   "source": [
    "# weitere elementweise operationen\n",
    "print(a)\n",
    "\n",
    "print(a - np.array([40, 100, 398, 4]))\n",
    "print(a * np.array([40, 100, 398, 4]))\n",
    "print(a / np.array([40, 100, 398, 4]))\n",
    "print(a * 20)\n",
    "print(a > 4)\n",
    "print(np.logical_xor(a > 4, np.array([False, True, True, False])))"
   ]
  },
  {
   "cell_type": "markdown",
   "id": "de0335af",
   "metadata": {},
   "source": [
    "    [ 5  2 50  1]\n",
    "    [ -35  -98 -348   -3]\n",
    "    [  200   200 19900     4]\n",
    "    [0.125      0.02       0.12562814 0.25      ]\n",
    "    [ 100   40 1000   20]\n",
    "    [ True False  True False]\n",
    "    [ True  True False False]"
   ]
  },
  {
   "cell_type": "code",
   "execution_count": null,
   "id": "f083eb21",
   "metadata": {},
   "outputs": [],
   "source": [
    "# listen elementweise (mehrere moeglichkeiten):\n",
    "num = 20\n",
    "\n",
    "for i, el in enumerate(l):\n",
    "    l[i] = el * num\n",
    "\n",
    "l"
   ]
  },
  {
   "cell_type": "markdown",
   "id": "edecca87",
   "metadata": {},
   "source": [
    "    [100, 40, 1000, 20]\n"
   ]
  },
  {
   "cell_type": "code",
   "execution_count": null,
   "id": "192c03a9",
   "metadata": {},
   "outputs": [],
   "source": [
    "for i, el in enumerate(l): # --> enumerate in topic Python\n",
    "    print(i, el)"
   ]
  },
  {
   "cell_type": "markdown",
   "id": "07cd3c0b",
   "metadata": {},
   "source": [
    "    0 100\n",
    "    1 40\n",
    "    2 1000\n",
    "    3 20\n",
    "\n",
    "(Siehe auch: [`enumerate`](/topics/python.md#`enumerate`))\n"
   ]
  },
  {
   "cell_type": "code",
   "execution_count": null,
   "id": "d6c36a37",
   "metadata": {},
   "outputs": [],
   "source": [
    "l_1 = [1, 2, 3]\n",
    "l_2 = [10, 20, 30]\n",
    "\n",
    "for el_1, el_2 in zip(l_1, l_2): \n",
    "    print(el_1, el_2)"
   ]
  },
  {
   "cell_type": "markdown",
   "id": "609b4bd3",
   "metadata": {},
   "source": [
    "    1 10\n",
    "    2 20\n",
    "    3 30\n",
    "\n",
    "(Siehe auch: [`zip`](/topics/python.md#`zip`))\n"
   ]
  },
  {
   "cell_type": "code",
   "execution_count": null,
   "id": "3c2e0f04",
   "metadata": {},
   "outputs": [],
   "source": [
    "# list-comprehensions\n",
    "[a * b for a, b in zip(l, [40, 100, 398, 4])]"
   ]
  },
  {
   "cell_type": "markdown",
   "id": "3377cc45",
   "metadata": {},
   "source": [
    "    [4000, 4000, 398000, 80]\n",
    "\n",
    "(Siehe auch: [List comprehensions](topics/python.md#List%20comprehensions))\n"
   ]
  },
  {
   "cell_type": "code",
   "execution_count": null,
   "id": "fd297990",
   "metadata": {},
   "outputs": [],
   "source": [
    "for a, b in zip(l, [40, 100, 398, 4]): \n",
    "    print(a * b)"
   ]
  },
  {
   "cell_type": "markdown",
   "id": "8a10d7ff",
   "metadata": {},
   "source": [
    "    4000\n",
    "    4000\n",
    "    398000\n",
    "    80"
   ]
  },
  {
   "cell_type": "markdown",
   "id": "aaeba717",
   "metadata": {},
   "source": [
    "### Datentypen\n",
    "\n",
    "In Listen bleiben die Datentypen aller Elemente erhalten."
   ]
  },
  {
   "cell_type": "code",
   "execution_count": null,
   "id": "60a35d77",
   "metadata": {},
   "outputs": [],
   "source": [
    "[0.1, 0, 'a', True]"
   ]
  },
  {
   "cell_type": "markdown",
   "id": "827cdb19",
   "metadata": {},
   "source": [
    "    [0.1, 0, 'a', True]"
   ]
  },
  {
   "cell_type": "markdown",
   "id": "088c9a83",
   "metadata": {},
   "source": [
    "Bei NumPy-Arrays werden die Datentypen der Elemente aneinander angeglichen."
   ]
  },
  {
   "cell_type": "code",
   "execution_count": null,
   "id": "4e0e05ac",
   "metadata": {},
   "outputs": [],
   "source": [
    "print(np.array([0.1, 0, 'a', True]))\n",
    "\n",
    "print(np.array([0.1, 0, True]))\n",
    "\n",
    "print(np.array([0, True]))\n",
    "\n",
    "print(np.array([True]))"
   ]
  },
  {
   "cell_type": "markdown",
   "id": "d30d9cfd",
   "metadata": {},
   "source": [
    "    ['0.1' '0' 'a' 'True']\n",
    "    [0.1 0.  1. ]\n",
    "    [0 1]\n",
    "    [ True]"
   ]
  },
  {
   "cell_type": "code",
   "execution_count": 2,
   "id": "b56909c7",
   "metadata": {},
   "outputs": [
    {
     "data": {
      "text/plain": [
       "array([1, 2, 3])"
      ]
     },
     "execution_count": 2,
     "metadata": {},
     "output_type": "execute_result"
    }
   ],
   "source": [
    "# explizite datentyp-angabe\n",
    "\n",
    "np.array([1.0, 2.0, 3.0], dtype=int)"
   ]
  },
  {
   "cell_type": "markdown",
   "id": "08936212",
   "metadata": {},
   "source": [
    "### Recheneffizienz"
   ]
  },
  {
   "cell_type": "code",
   "execution_count": null,
   "id": "1b68701d",
   "metadata": {},
   "outputs": [],
   "source": [
    "size = 10e7\n",
    "\n",
    "a_1 = np.linspace(10, 59, int(size))\n",
    "a_2 = np.linspace(100, 59, int(size))"
   ]
  },
  {
   "cell_type": "code",
   "execution_count": null,
   "id": "fb25fcd1",
   "metadata": {},
   "outputs": [],
   "source": [
    "%timeit a_1 * a_2"
   ]
  },
  {
   "cell_type": "markdown",
   "id": "f687333f",
   "metadata": {},
   "source": [
    "    21.4 ms ± 184 µs per loop (mean ± std. dev. of 7 runs, 10 loops each)\n"
   ]
  },
  {
   "cell_type": "code",
   "execution_count": null,
   "id": "30ae002c",
   "metadata": {},
   "outputs": [],
   "source": [
    "l_1 = a_1.tolist()\n",
    "l_2 = a_2.tolist()"
   ]
  },
  {
   "cell_type": "code",
   "execution_count": null,
   "id": "80ebb546",
   "metadata": {},
   "outputs": [],
   "source": [
    "%timeit [a * b for a, b in zip(l_1, l_2)]"
   ]
  },
  {
   "cell_type": "markdown",
   "id": "ac53f811",
   "metadata": {},
   "source": [
    "    1.06 s ± 11.7 ms per loop (mean ± std. dev. of 7 runs, 1 loop each)"
   ]
  },
  {
   "cell_type": "markdown",
   "id": "efbe651b",
   "metadata": {},
   "source": [
    "## Arrays erstellen"
   ]
  },
  {
   "cell_type": "code",
   "execution_count": null,
   "id": "8dda59cb",
   "metadata": {},
   "outputs": [],
   "source": [
    "np.array([1, 2, 3, 4])"
   ]
  },
  {
   "cell_type": "markdown",
   "id": "54c9715e",
   "metadata": {},
   "source": [
    "    array([1, 2, 3, 4])\n"
   ]
  },
  {
   "cell_type": "code",
   "execution_count": null,
   "id": "a4b4105f",
   "metadata": {},
   "outputs": [],
   "source": [
    "np.arange(10, 100, 3) # for (i = 10; i < 100; i += 3)"
   ]
  },
  {
   "cell_type": "markdown",
   "id": "f99415e9",
   "metadata": {},
   "source": [
    "    array([10, 13, 16, 19, 22, 25, 28, 31, 34, 37, 40, 43, 46, 49, 52, 55, 58,\n",
    "           61, 64, 67, 70, 73, 76, 79, 82, 85, 88, 91, 94, 97])\n"
   ]
  },
  {
   "cell_type": "code",
   "execution_count": null,
   "id": "c75ff1f5",
   "metadata": {},
   "outputs": [],
   "source": [
    "np.linspace(10, 100, 30)"
   ]
  },
  {
   "cell_type": "markdown",
   "id": "60c6d01f",
   "metadata": {},
   "source": [
    "    array([ 10.        ,  13.10344828,  16.20689655,  19.31034483,\n",
    "            22.4137931 ,  25.51724138,  28.62068966,  31.72413793,\n",
    "            34.82758621,  37.93103448,  41.03448276,  44.13793103,\n",
    "            47.24137931,  50.34482759,  53.44827586,  56.55172414,\n",
    "            59.65517241,  62.75862069,  65.86206897,  68.96551724,\n",
    "            72.06896552,  75.17241379,  78.27586207,  81.37931034,\n",
    "            84.48275862,  87.5862069 ,  90.68965517,  93.79310345,\n",
    "            96.89655172, 100.        ])\n"
   ]
  },
  {
   "cell_type": "code",
   "execution_count": null,
   "id": "62ff9c08",
   "metadata": {},
   "outputs": [],
   "source": [
    "np.geomspace(1, 10, 5)"
   ]
  },
  {
   "cell_type": "markdown",
   "id": "f95a211c",
   "metadata": {},
   "source": [
    "    array([ 1.        ,  1.77827941,  3.16227766,  5.62341325, 10.        ])"
   ]
  },
  {
   "cell_type": "markdown",
   "id": "a7b18e8b",
   "metadata": {},
   "source": [
    "## Multidimensionale Arrays"
   ]
  },
  {
   "cell_type": "code",
   "execution_count": null,
   "id": "f0910732",
   "metadata": {},
   "outputs": [],
   "source": [
    "newshape = (5, 4)\n",
    "\n",
    "np.reshape(np.linspace(10, 100, newshape[0] * newshape[1]), newshape)"
   ]
  },
  {
   "cell_type": "markdown",
   "id": "c0d6d26c",
   "metadata": {},
   "source": [
    "    array([[ 10.        ,  14.73684211,  19.47368421,  24.21052632],\n",
    "           [ 28.94736842,  33.68421053,  38.42105263,  43.15789474],\n",
    "           [ 47.89473684,  52.63157895,  57.36842105,  62.10526316],\n",
    "           [ 66.84210526,  71.57894737,  76.31578947,  81.05263158],\n",
    "           [ 85.78947368,  90.52631579,  95.26315789, 100.        ]])"
   ]
  },
  {
   "cell_type": "markdown",
   "id": "01f54565",
   "metadata": {},
   "source": [
    "## shapes"
   ]
  },
  {
   "cell_type": "code",
   "execution_count": null,
   "id": "7598dfa2",
   "metadata": {},
   "outputs": [],
   "source": [
    "l = [1, 2, 3, 4]"
   ]
  },
  {
   "cell_type": "code",
   "execution_count": null,
   "id": "20092529",
   "metadata": {},
   "outputs": [],
   "source": [
    "len(l)"
   ]
  },
  {
   "cell_type": "markdown",
   "id": "67874e3b",
   "metadata": {},
   "source": [
    "    4\n"
   ]
  },
  {
   "cell_type": "code",
   "execution_count": null,
   "id": "e646ea6d",
   "metadata": {},
   "outputs": [],
   "source": [
    "a = np.array([1, 2, 3, 4])"
   ]
  },
  {
   "cell_type": "code",
   "execution_count": null,
   "id": "038532b9",
   "metadata": {},
   "outputs": [],
   "source": [
    "len(a)"
   ]
  },
  {
   "cell_type": "markdown",
   "id": "2affa736",
   "metadata": {},
   "source": [
    "    4\n"
   ]
  },
  {
   "cell_type": "code",
   "execution_count": null,
   "id": "b81d70f4",
   "metadata": {},
   "outputs": [],
   "source": [
    "a.shape"
   ]
  },
  {
   "cell_type": "markdown",
   "id": "552e32b1",
   "metadata": {},
   "source": [
    "    (4,)\n"
   ]
  },
  {
   "cell_type": "code",
   "execution_count": null,
   "id": "4aba9611",
   "metadata": {},
   "outputs": [],
   "source": [
    "newshape = (5, 4)\n",
    "\n",
    "a = np.reshape(np.linspace(10, 100, newshape[0] * newshape[1]), newshape)\n",
    "\n",
    "a.shape"
   ]
  },
  {
   "cell_type": "markdown",
   "id": "2d77ca52",
   "metadata": {},
   "source": [
    "    (5, 4)"
   ]
  },
  {
   "cell_type": "markdown",
   "id": "2fd34100",
   "metadata": {},
   "source": [
    "## Auf Elemente zugreifen\n",
    "\n",
    "### Element-Zugriff bei eindimensionalen Arrays"
   ]
  },
  {
   "cell_type": "code",
   "execution_count": null,
   "id": "efae0f64",
   "metadata": {},
   "outputs": [],
   "source": [
    "a = np.arange(30, 400, 4)\n",
    "\n",
    "print(a)\n",
    "\n",
    "print(a[4])\n",
    "\n",
    "# auch auf strings anwendbar, da auch iterabler datentyp!\n",
    "\n",
    "print(a[4:10]) # auf bereich zugreifen [start : stop[\n",
    "\n",
    "print(a[:10])\n",
    "\n",
    "print(a[4:])\n",
    "\n",
    "print(a[:])\n",
    "\n",
    "print(a[:-3])\n",
    "\n",
    "print(a[4:10:2])\n",
    "\n",
    "print(a[4::2])\n",
    "\n",
    "print(a[::-1])\n",
    "\n",
    "print(a[::-2])"
   ]
  },
  {
   "cell_type": "markdown",
   "id": "bd6bd44f",
   "metadata": {},
   "source": [
    "    [ 30  34  38  42  46  50  54  58  62  66  70  74  78  82  86  90  94  98\n",
    "     102 106 110 114 118 122 126 130 134 138 142 146 150 154 158 162 166 170\n",
    "     174 178 182 186 190 194 198 202 206 210 214 218 222 226 230 234 238 242\n",
    "     246 250 254 258 262 266 270 274 278 282 286 290 294 298 302 306 310 314\n",
    "     318 322 326 330 334 338 342 346 350 354 358 362 366 370 374 378 382 386\n",
    "     390 394 398]\n",
    "    46\n",
    "    [46 50 54 58 62 66]\n",
    "    [30 34 38 42 46 50 54 58 62 66]\n",
    "    [ 46  50  54  58  62  66  70  74  78  82  86  90  94  98 102 106 110 114\n",
    "     118 122 126 130 134 138 142 146 150 154 158 162 166 170 174 178 182 186\n",
    "     190 194 198 202 206 210 214 218 222 226 230 234 238 242 246 250 254 258\n",
    "     262 266 270 274 278 282 286 290 294 298 302 306 310 314 318 322 326 330\n",
    "     334 338 342 346 350 354 358 362 366 370 374 378 382 386 390 394 398]\n",
    "    [ 30  34  38  42  46  50  54  58  62  66  70  74  78  82  86  90  94  98\n",
    "     102 106 110 114 118 122 126 130 134 138 142 146 150 154 158 162 166 170\n",
    "     174 178 182 186 190 194 198 202 206 210 214 218 222 226 230 234 238 242\n",
    "     246 250 254 258 262 266 270 274 278 282 286 290 294 298 302 306 310 314\n",
    "     318 322 326 330 334 338 342 346 350 354 358 362 366 370 374 378 382 386\n",
    "     390 394 398]\n",
    "    [ 30  34  38  42  46  50  54  58  62  66  70  74  78  82  86  90  94  98\n",
    "     102 106 110 114 118 122 126 130 134 138 142 146 150 154 158 162 166 170\n",
    "     174 178 182 186 190 194 198 202 206 210 214 218 222 226 230 234 238 242\n",
    "     246 250 254 258 262 266 270 274 278 282 286 290 294 298 302 306 310 314\n",
    "     318 322 326 330 334 338 342 346 350 354 358 362 366 370 374 378 382 386]\n",
    "    [46 54 62]\n",
    "    [ 46  54  62  70  78  86  94 102 110 118 126 134 142 150 158 166 174 182\n",
    "     190 198 206 214 222 230 238 246 254 262 270 278 286 294 302 310 318 326\n",
    "     334 342 350 358 366 374 382 390 398]\n",
    "    [398 394 390 386 382 378 374 370 366 362 358 354 350 346 342 338 334 330\n",
    "     326 322 318 314 310 306 302 298 294 290 286 282 278 274 270 266 262 258\n",
    "     254 250 246 242 238 234 230 226 222 218 214 210 206 202 198 194 190 186\n",
    "     182 178 174 170 166 162 158 154 150 146 142 138 134 130 126 122 118 114\n",
    "     110 106 102  98  94  90  86  82  78  74  70  66  62  58  54  50  46  42\n",
    "      38  34  30]\n",
    "    [398 390 382 374 366 358 350 342 334 326 318 310 302 294 286 278 270 262\n",
    "     254 246 238 230 222 214 206 198 190 182 174 166 158 150 142 134 126 118\n",
    "     110 102  94  86  78  70  62  54  46  38  30]"
   ]
  },
  {
   "cell_type": "markdown",
   "id": "8ca2d2d3",
   "metadata": {},
   "source": [
    "### Element-Zugriff bei multidimensionalen Arrays"
   ]
  },
  {
   "cell_type": "code",
   "execution_count": 3,
   "id": "1f5306be",
   "metadata": {},
   "outputs": [
    {
     "data": {
      "text/plain": [
       "array([[ 0,  1,  2,  3,  4,  5,  6],\n",
       "       [ 7,  8,  9, 10, 11, 12, 13],\n",
       "       [14, 15, 16, 17, 18, 19, 20],\n",
       "       [21, 22, 23, 24, 25, 26, 27]])"
      ]
     },
     "execution_count": 3,
     "metadata": {},
     "output_type": "execute_result"
    }
   ],
   "source": [
    "a = np.reshape(np.arange(0, 28), (4, 7))\n",
    "a"
   ]
  },
  {
   "cell_type": "code",
   "execution_count": 4,
   "id": "c7b23309",
   "metadata": {},
   "outputs": [
    {
     "name": "stdout",
     "output_type": "stream",
     "text": [
      "[[ 0  1  2  3  4  5  6]\n",
      " [ 7  8  9 10 11 12 13]\n",
      " [14 15 16 17 18 19 20]\n",
      " [21 22 23 24 25 26 27]] \n",
      "\n",
      "[14 15 16 17 18 19 20] \n",
      "\n",
      "17 \n",
      "\n",
      "17 \n",
      "\n",
      "[17] \n",
      "\n",
      "[[17 18]\n",
      " [24 25]] \n",
      "\n"
     ]
    }
   ],
   "source": [
    "print(a, '\\n')\n",
    "\n",
    "print(a[2], '\\n')\n",
    "\n",
    "print(a[2][3], '\\n')\n",
    "\n",
    "print(a[2, 3], '\\n')\n",
    "\n",
    "print(a[2, 3:4], '\\n')\n",
    "\n",
    "print(a[2:4, 3:5], '\\n') "
   ]
  },
  {
   "cell_type": "markdown",
   "id": "94b405fb",
   "metadata": {},
   "source": [
    "#### `np.newshape`"
   ]
  },
  {
   "cell_type": "code",
   "execution_count": 5,
   "id": "a3168130",
   "metadata": {},
   "outputs": [
    {
     "data": {
      "text/plain": [
       "array([[ 10,  20,  30,  40],\n",
       "       [ 20,  40,  60,  80],\n",
       "       [ 30,  60,  90, 120],\n",
       "       [ 40,  80, 120, 160]])"
      ]
     },
     "execution_count": 5,
     "metadata": {},
     "output_type": "execute_result"
    }
   ],
   "source": [
    "a_1 = np.array([1, 2, 3, 4])\n",
    "a_2 = np.array([[10],\n",
    "                [20],\n",
    "                [30],\n",
    "                [40]])\n",
    "\n",
    "a_1 * a_2"
   ]
  },
  {
   "cell_type": "code",
   "execution_count": 6,
   "id": "0cc111ee",
   "metadata": {},
   "outputs": [
    {
     "data": {
      "text/plain": [
       "array([[ 10,  20,  30,  40],\n",
       "       [ 20,  40,  60,  80],\n",
       "       [ 30,  60,  90, 120],\n",
       "       [ 40,  80, 120, 160]])"
      ]
     },
     "execution_count": 6,
     "metadata": {},
     "output_type": "execute_result"
    }
   ],
   "source": [
    "# np.newaxis\n",
    "\n",
    "a_1 = np.array([1, 2, 3, 4])\n",
    "a_2 = np.array([10, 20, 30, 40])\n",
    "\n",
    "a_1 * a_2[:, np.newaxis]"
   ]
  },
  {
   "cell_type": "code",
   "execution_count": 7,
   "id": "c91306b2",
   "metadata": {},
   "outputs": [
    {
     "data": {
      "text/plain": [
       "array([[10],\n",
       "       [20],\n",
       "       [30],\n",
       "       [40]])"
      ]
     },
     "execution_count": 7,
     "metadata": {},
     "output_type": "execute_result"
    }
   ],
   "source": [
    "a_2[:, np.newaxis]"
   ]
  },
  {
   "cell_type": "code",
   "execution_count": 8,
   "id": "a7df7d6e",
   "metadata": {},
   "outputs": [
    {
     "data": {
      "text/plain": [
       "array([[ 10,  20,  30,  40],\n",
       "       [ 20,  40,  60,  80],\n",
       "       [ 30,  60,  90, 120],\n",
       "       [ 40,  80, 120, 160]])"
      ]
     },
     "execution_count": 8,
     "metadata": {},
     "output_type": "execute_result"
    }
   ],
   "source": [
    "a_1 * np.reshape(a_2, (4, 1))"
   ]
  },
  {
   "cell_type": "code",
   "execution_count": 9,
   "id": "2fe97099",
   "metadata": {},
   "outputs": [
    {
     "data": {
      "text/plain": [
       "array([[10],\n",
       "       [20],\n",
       "       [30],\n",
       "       [40]])"
      ]
     },
     "execution_count": 9,
     "metadata": {},
     "output_type": "execute_result"
    }
   ],
   "source": [
    "np.reshape(a_2, (4, 1))"
   ]
  },
  {
   "cell_type": "markdown",
   "id": "04ef996e",
   "metadata": {},
   "source": [
    "### egal wie viele Dimensionen: boolsche Indizes"
   ]
  },
  {
   "cell_type": "code",
   "execution_count": 10,
   "id": "d0503db2",
   "metadata": {
    "scrolled": true
   },
   "outputs": [
    {
     "name": "stdout",
     "output_type": "stream",
     "text": [
      "[[ 10  20  30  40]\n",
      " [ 20  40  60  80]\n",
      " [ 30  60  90 120]\n",
      " [ 40  80 120 160]] \n",
      "\n",
      "[[False  True False  True]\n",
      " [False False  True False]\n",
      " [False False False False]\n",
      " [ True  True  True False]] \n",
      "\n",
      "[ 20  40  60  40  80 120] \n",
      "\n",
      "[[False False False False]\n",
      " [False False False False]\n",
      " [False False  True  True]\n",
      " [False False  True  True]] \n",
      "\n"
     ]
    },
    {
     "data": {
      "text/plain": [
       "array([ 90, 120, 120, 160])"
      ]
     },
     "execution_count": 10,
     "metadata": {},
     "output_type": "execute_result"
    }
   ],
   "source": [
    "a_1 = np.array([1, 2, 3, 4])\n",
    "a_2 = np.array([10, 20, 30, 40])\n",
    "a_ = a_1 * a_2[:, np.newaxis]\n",
    "\n",
    "print(a_, '\\n')\n",
    "\n",
    "b = np.array([[False, True, False, True],\n",
    "              [False, False, True, False],\n",
    "              [False, False, False, False],\n",
    "              [True, True, True, False]])\n",
    "\n",
    "print(b, '\\n')\n",
    "\n",
    "print(a_[b], '\\n')\n",
    "\n",
    "b = a_ > 80\n",
    "\n",
    "print(b, '\\n')\n",
    "\n",
    "a_[a_ > 80]\n",
    "\n",
    "a_[b]"
   ]
  },
  {
   "cell_type": "code",
   "execution_count": 11,
   "id": "1c2f382e",
   "metadata": {},
   "outputs": [
    {
     "name": "stdout",
     "output_type": "stream",
     "text": [
      "[11 17 12 12  3 10  2  7 11  9 17 12 16  8  3  2 16  0 18  5] \n",
      "\n",
      "[11 17 12 12 10  7 11  9 17 12 16  8 16 18]\n"
     ]
    }
   ],
   "source": [
    "c = np.random.randint(0, 20, 20)\n",
    "\n",
    "print(c, '\\n')\n",
    "\n",
    "print(c[c > 5])"
   ]
  },
  {
   "cell_type": "code",
   "execution_count": 12,
   "id": "ac5a9c1a",
   "metadata": {},
   "outputs": [
    {
     "data": {
      "text/plain": [
       "array([ True,  True,  True,  True, False,  True, False,  True,  True,\n",
       "        True,  True,  True,  True,  True, False, False,  True, False,\n",
       "        True, False])"
      ]
     },
     "execution_count": 12,
     "metadata": {},
     "output_type": "execute_result"
    }
   ],
   "source": [
    "c > 5"
   ]
  }
 ],
 "metadata": {
  "jupytext": {
   "cell_metadata_filter": "-all",
   "notebook_metadata_filter": "-all"
  },
  "kernelspec": {
   "display_name": "Python 3 (ipykernel)",
   "language": "python",
   "name": "python3"
  },
  "language_info": {
   "codemirror_mode": {
    "name": "ipython",
    "version": 3
   },
   "file_extension": ".py",
   "mimetype": "text/x-python",
   "name": "python",
   "nbconvert_exporter": "python",
   "pygments_lexer": "ipython3",
   "version": "3.9.11"
  }
 },
 "nbformat": 4,
 "nbformat_minor": 5
}

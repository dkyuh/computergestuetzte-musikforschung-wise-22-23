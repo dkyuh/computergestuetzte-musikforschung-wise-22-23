{
 "cells": [
  {
   "cell_type": "markdown",
   "id": "eb5dd34b",
   "metadata": {},
   "source": [
    "# Numpy\n"
   ]
  },
  {
   "cell_type": "code",
   "execution_count": null,
   "id": "6ee20391",
   "metadata": {},
   "outputs": [],
   "source": [
    "import numpy as np"
   ]
  },
  {
   "cell_type": "markdown",
   "id": "b0d6937f",
   "metadata": {},
   "source": [
    "## Numpy-Arrays vs. Listen\n",
    "\n",
    "### elementweise Operationen"
   ]
  },
  {
   "cell_type": "code",
   "execution_count": null,
   "id": "d5b8a09e",
   "metadata": {},
   "outputs": [],
   "source": [
    "# liste\n",
    "l = [5, 2, 50, 1]\n",
    "# np-array\n",
    "a = np.array([5, 2, 50, 1])"
   ]
  },
  {
   "cell_type": "code",
   "execution_count": null,
   "id": "afdbdc32",
   "metadata": {},
   "outputs": [],
   "source": [
    "# `append`\n",
    "l + [40, 100, 398, 4]"
   ]
  },
  {
   "cell_type": "markdown",
   "id": "0792dfa0",
   "metadata": {},
   "source": [
    "    [5, 2, 50, 1, 40, 100, 398, 4]\n"
   ]
  },
  {
   "cell_type": "code",
   "execution_count": null,
   "id": "0debbadf",
   "metadata": {},
   "outputs": [],
   "source": [
    "# elementweise\n",
    "a + np.array([40, 100, 398, 4])\n",
    "\n",
    "# a + np.array([40, 100, 398, 4, 10]) # wirft einen error wegen ungleicher anzahl an elementen"
   ]
  },
  {
   "cell_type": "markdown",
   "id": "ea34136f",
   "metadata": {},
   "source": [
    "    array([ 45, 102, 448,   5])\n"
   ]
  },
  {
   "cell_type": "code",
   "execution_count": null,
   "id": "20e85c1d",
   "metadata": {},
   "outputs": [],
   "source": [
    "# weitere elementweise operationen\n",
    "print(a)\n",
    "\n",
    "print(a - np.array([40, 100, 398, 4]))\n",
    "print(a * np.array([40, 100, 398, 4]))\n",
    "print(a / np.array([40, 100, 398, 4]))\n",
    "print(a * 20)\n",
    "print(a > 4)\n",
    "print(np.logical_xor(a > 4, np.array([False, True, True, False])))"
   ]
  },
  {
   "cell_type": "markdown",
   "id": "4755fcb6",
   "metadata": {},
   "source": [
    "    [ 5  2 50  1]\n",
    "    [ -35  -98 -348   -3]\n",
    "    [  200   200 19900     4]\n",
    "    [0.125      0.02       0.12562814 0.25      ]\n",
    "    [ 100   40 1000   20]\n",
    "    [ True False  True False]\n",
    "    [ True  True False False]"
   ]
  },
  {
   "cell_type": "code",
   "execution_count": null,
   "id": "402dc86c",
   "metadata": {},
   "outputs": [],
   "source": [
    "# listen elementweise (mehrere moeglichkeiten):\n",
    "num = 20\n",
    "\n",
    "for i, el in enumerate(l):\n",
    "    l[i] = el * num\n",
    "\n",
    "l"
   ]
  },
  {
   "cell_type": "markdown",
   "id": "4381a645",
   "metadata": {},
   "source": [
    "    [100, 40, 1000, 20]\n"
   ]
  },
  {
   "cell_type": "code",
   "execution_count": null,
   "id": "54c886bf",
   "metadata": {},
   "outputs": [],
   "source": [
    "for i, el in enumerate(l): # --> enumerate in topic Python\n",
    "    print(i, el)"
   ]
  },
  {
   "cell_type": "markdown",
   "id": "377f53ac",
   "metadata": {},
   "source": [
    "    0 100\n",
    "    1 40\n",
    "    2 1000\n",
    "    3 20\n",
    "\n",
    "(Siehe auch: [`enumerate`](/topics/python.md#`enumerate`))\n"
   ]
  },
  {
   "cell_type": "code",
   "execution_count": null,
   "id": "e3f54453",
   "metadata": {},
   "outputs": [],
   "source": [
    "l_1 = [1, 2, 3]\n",
    "l_2 = [10, 20, 30]\n",
    "\n",
    "for el_1, el_2 in zip(l_1, l_2): \n",
    "    print(el_1, el_2)"
   ]
  },
  {
   "cell_type": "markdown",
   "id": "7284af88",
   "metadata": {},
   "source": [
    "    1 10\n",
    "    2 20\n",
    "    3 30\n",
    "\n",
    "(Siehe auch: [`zip`](/topics/python.md#`zip`))\n"
   ]
  },
  {
   "cell_type": "code",
   "execution_count": null,
   "id": "3196ff06",
   "metadata": {},
   "outputs": [],
   "source": [
    "# list-comprehensions\n",
    "[a * b for a, b in zip(l, [40, 100, 398, 4])]"
   ]
  },
  {
   "cell_type": "markdown",
   "id": "e238b26f",
   "metadata": {},
   "source": [
    "    [4000, 4000, 398000, 80]\n",
    "\n",
    "(Siehe auch: [List comprehensions](topics/python.md#List%20comprehensions))\n"
   ]
  },
  {
   "cell_type": "code",
   "execution_count": null,
   "id": "a332575c",
   "metadata": {},
   "outputs": [],
   "source": [
    "for a, b in zip(l, [40, 100, 398, 4]): \n",
    "    print(a * b)"
   ]
  },
  {
   "cell_type": "markdown",
   "id": "824e5039",
   "metadata": {},
   "source": [
    "    4000\n",
    "    4000\n",
    "    398000\n",
    "    80"
   ]
  },
  {
   "cell_type": "markdown",
   "id": "fa4d5d38",
   "metadata": {},
   "source": [
    "### Datentypen\n",
    "\n",
    "In Listen bleiben die Datentypen aller Elemente erhalten."
   ]
  },
  {
   "cell_type": "code",
   "execution_count": null,
   "id": "ff2d6c4a",
   "metadata": {},
   "outputs": [],
   "source": [
    "[0.1, 0, 'a', True]"
   ]
  },
  {
   "cell_type": "markdown",
   "id": "2ce01776",
   "metadata": {},
   "source": [
    "    [0.1, 0, 'a', True]"
   ]
  },
  {
   "cell_type": "markdown",
   "id": "9f9fb88d",
   "metadata": {},
   "source": [
    "Bei NumPy-Arrays werden die Datentypen der Elemente aneinander angeglichen."
   ]
  },
  {
   "cell_type": "code",
   "execution_count": null,
   "id": "52f0ba61",
   "metadata": {},
   "outputs": [],
   "source": [
    "print(np.array([0.1, 0, 'a', True]))\n",
    "\n",
    "print(np.array([0.1, 0, True]))\n",
    "\n",
    "print(np.array([0, True]))\n",
    "\n",
    "print(np.array([True]))"
   ]
  },
  {
   "cell_type": "markdown",
   "id": "1f7dc41c",
   "metadata": {},
   "source": [
    "    ['0.1' '0' 'a' 'True']\n",
    "    [0.1 0.  1. ]\n",
    "    [0 1]\n",
    "    [ True]"
   ]
  },
  {
   "cell_type": "markdown",
   "id": "9fb310fe",
   "metadata": {},
   "source": [
    "### Recheneffizienz"
   ]
  },
  {
   "cell_type": "code",
   "execution_count": null,
   "id": "103ecd7e",
   "metadata": {},
   "outputs": [],
   "source": [
    "size = 10e7\n",
    "\n",
    "a_1 = np.linspace(10, 59, int(size))\n",
    "a_2 = np.linspace(100, 59, int(size))"
   ]
  },
  {
   "cell_type": "code",
   "execution_count": null,
   "id": "76a7047a",
   "metadata": {},
   "outputs": [],
   "source": [
    "%timeit a_1 * a_2"
   ]
  },
  {
   "cell_type": "markdown",
   "id": "bece1ea2",
   "metadata": {},
   "source": [
    "    21.4 ms ± 184 µs per loop (mean ± std. dev. of 7 runs, 10 loops each)\n"
   ]
  },
  {
   "cell_type": "code",
   "execution_count": null,
   "id": "3df30302",
   "metadata": {},
   "outputs": [],
   "source": [
    "l_1 = a_1.tolist()\n",
    "l_2 = a_2.tolist()"
   ]
  },
  {
   "cell_type": "code",
   "execution_count": null,
   "id": "f676eaef",
   "metadata": {},
   "outputs": [],
   "source": [
    "%timeit [a * b for a, b in zip(l_1, l_2)]"
   ]
  },
  {
   "cell_type": "markdown",
   "id": "cfc22030",
   "metadata": {},
   "source": [
    "    1.06 s ± 11.7 ms per loop (mean ± std. dev. of 7 runs, 1 loop each)"
   ]
  },
  {
   "cell_type": "markdown",
   "id": "f375af9b",
   "metadata": {},
   "source": [
    "## Arrays erstellen"
   ]
  },
  {
   "cell_type": "code",
   "execution_count": null,
   "id": "68a0c605",
   "metadata": {},
   "outputs": [],
   "source": [
    "np.array([1, 2, 3, 4])"
   ]
  },
  {
   "cell_type": "markdown",
   "id": "d520003f",
   "metadata": {},
   "source": [
    "    array([1, 2, 3, 4])\n"
   ]
  },
  {
   "cell_type": "code",
   "execution_count": null,
   "id": "2926cf7c",
   "metadata": {},
   "outputs": [],
   "source": [
    "np.arange(10, 100, 3) # for (i = 10; i < 100; i += 3)"
   ]
  },
  {
   "cell_type": "markdown",
   "id": "09df10a2",
   "metadata": {},
   "source": [
    "    array([10, 13, 16, 19, 22, 25, 28, 31, 34, 37, 40, 43, 46, 49, 52, 55, 58,\n",
    "           61, 64, 67, 70, 73, 76, 79, 82, 85, 88, 91, 94, 97])\n"
   ]
  },
  {
   "cell_type": "code",
   "execution_count": null,
   "id": "0a117196",
   "metadata": {},
   "outputs": [],
   "source": [
    "np.linspace(10, 100, 30)"
   ]
  },
  {
   "cell_type": "markdown",
   "id": "3b28e26c",
   "metadata": {},
   "source": [
    "    array([ 10.        ,  13.10344828,  16.20689655,  19.31034483,\n",
    "            22.4137931 ,  25.51724138,  28.62068966,  31.72413793,\n",
    "            34.82758621,  37.93103448,  41.03448276,  44.13793103,\n",
    "            47.24137931,  50.34482759,  53.44827586,  56.55172414,\n",
    "            59.65517241,  62.75862069,  65.86206897,  68.96551724,\n",
    "            72.06896552,  75.17241379,  78.27586207,  81.37931034,\n",
    "            84.48275862,  87.5862069 ,  90.68965517,  93.79310345,\n",
    "            96.89655172, 100.        ])\n"
   ]
  },
  {
   "cell_type": "code",
   "execution_count": null,
   "id": "5ebfecd5",
   "metadata": {},
   "outputs": [],
   "source": [
    "np.geomspace(1, 10, 5)"
   ]
  },
  {
   "cell_type": "markdown",
   "id": "813eeb47",
   "metadata": {},
   "source": [
    "    array([ 1.        ,  1.77827941,  3.16227766,  5.62341325, 10.        ])"
   ]
  },
  {
   "cell_type": "markdown",
   "id": "203c2262",
   "metadata": {},
   "source": [
    "## Multidimensionale Arrays"
   ]
  },
  {
   "cell_type": "code",
   "execution_count": null,
   "id": "0b9986b5",
   "metadata": {},
   "outputs": [],
   "source": [
    "newshape = (5, 4)\n",
    "\n",
    "np.reshape(np.linspace(10, 100, newshape[0] * newshape[1]), newshape)"
   ]
  },
  {
   "cell_type": "markdown",
   "id": "f198543c",
   "metadata": {},
   "source": [
    "    array([[ 10.        ,  14.73684211,  19.47368421,  24.21052632],\n",
    "           [ 28.94736842,  33.68421053,  38.42105263,  43.15789474],\n",
    "           [ 47.89473684,  52.63157895,  57.36842105,  62.10526316],\n",
    "           [ 66.84210526,  71.57894737,  76.31578947,  81.05263158],\n",
    "           [ 85.78947368,  90.52631579,  95.26315789, 100.        ]])"
   ]
  },
  {
   "cell_type": "markdown",
   "id": "5c425cd7",
   "metadata": {},
   "source": [
    "## shapes"
   ]
  },
  {
   "cell_type": "code",
   "execution_count": null,
   "id": "9fad1a6d",
   "metadata": {},
   "outputs": [],
   "source": [
    "l = [1, 2, 3, 4]"
   ]
  },
  {
   "cell_type": "code",
   "execution_count": null,
   "id": "5317af64",
   "metadata": {},
   "outputs": [],
   "source": [
    "len(l)"
   ]
  },
  {
   "cell_type": "markdown",
   "id": "f22a2403",
   "metadata": {},
   "source": [
    "    4\n"
   ]
  },
  {
   "cell_type": "code",
   "execution_count": null,
   "id": "470117ed",
   "metadata": {},
   "outputs": [],
   "source": [
    "a = np.array([1, 2, 3, 4])"
   ]
  },
  {
   "cell_type": "code",
   "execution_count": null,
   "id": "48fc944d",
   "metadata": {},
   "outputs": [],
   "source": [
    "len(a)"
   ]
  },
  {
   "cell_type": "markdown",
   "id": "db2986ad",
   "metadata": {},
   "source": [
    "    4\n"
   ]
  },
  {
   "cell_type": "code",
   "execution_count": null,
   "id": "303128e4",
   "metadata": {},
   "outputs": [],
   "source": [
    "a.shape"
   ]
  },
  {
   "cell_type": "markdown",
   "id": "d73e4031",
   "metadata": {},
   "source": [
    "    (4,)\n"
   ]
  },
  {
   "cell_type": "code",
   "execution_count": null,
   "id": "35518250",
   "metadata": {},
   "outputs": [],
   "source": [
    "newshape = (5, 4)\n",
    "\n",
    "a = np.reshape(np.linspace(10, 100, newshape[0] * newshape[1]), newshape)\n",
    "\n",
    "a.shape"
   ]
  },
  {
   "cell_type": "markdown",
   "id": "c92fa4e9",
   "metadata": {},
   "source": [
    "    (5, 4)"
   ]
  },
  {
   "cell_type": "markdown",
   "id": "7f79ace0",
   "metadata": {},
   "source": [
    "## Auf Elemente zugreifen\n",
    "\n",
    "### Element-Zugriff bei eindimensionalen Arrays"
   ]
  },
  {
   "cell_type": "code",
   "execution_count": null,
   "id": "5bd46406",
   "metadata": {},
   "outputs": [],
   "source": [
    "a = np.arange(30, 400, 4)\n",
    "\n",
    "print(a)\n",
    "\n",
    "print(a[4])\n",
    "\n",
    "# auch auf strings anwendbar, da auch iterabler datentyp!\n",
    "\n",
    "print(a[4:10]) # auf bereich zugreifen [start : stop[\n",
    "\n",
    "print(a[:10])\n",
    "\n",
    "print(a[4:])\n",
    "\n",
    "print(a[:])\n",
    "\n",
    "print(a[:-3])\n",
    "\n",
    "print(a[4:10:2])\n",
    "\n",
    "print(a[4::2])\n",
    "\n",
    "print(a[::-1])\n",
    "\n",
    "print(a[::-2])"
   ]
  },
  {
   "cell_type": "markdown",
   "id": "11b3a6fc",
   "metadata": {},
   "source": [
    "    [ 30  34  38  42  46  50  54  58  62  66  70  74  78  82  86  90  94  98\n",
    "     102 106 110 114 118 122 126 130 134 138 142 146 150 154 158 162 166 170\n",
    "     174 178 182 186 190 194 198 202 206 210 214 218 222 226 230 234 238 242\n",
    "     246 250 254 258 262 266 270 274 278 282 286 290 294 298 302 306 310 314\n",
    "     318 322 326 330 334 338 342 346 350 354 358 362 366 370 374 378 382 386\n",
    "     390 394 398]\n",
    "    46\n",
    "    [46 50 54 58 62 66]\n",
    "    [30 34 38 42 46 50 54 58 62 66]\n",
    "    [ 46  50  54  58  62  66  70  74  78  82  86  90  94  98 102 106 110 114\n",
    "     118 122 126 130 134 138 142 146 150 154 158 162 166 170 174 178 182 186\n",
    "     190 194 198 202 206 210 214 218 222 226 230 234 238 242 246 250 254 258\n",
    "     262 266 270 274 278 282 286 290 294 298 302 306 310 314 318 322 326 330\n",
    "     334 338 342 346 350 354 358 362 366 370 374 378 382 386 390 394 398]\n",
    "    [ 30  34  38  42  46  50  54  58  62  66  70  74  78  82  86  90  94  98\n",
    "     102 106 110 114 118 122 126 130 134 138 142 146 150 154 158 162 166 170\n",
    "     174 178 182 186 190 194 198 202 206 210 214 218 222 226 230 234 238 242\n",
    "     246 250 254 258 262 266 270 274 278 282 286 290 294 298 302 306 310 314\n",
    "     318 322 326 330 334 338 342 346 350 354 358 362 366 370 374 378 382 386\n",
    "     390 394 398]\n",
    "    [ 30  34  38  42  46  50  54  58  62  66  70  74  78  82  86  90  94  98\n",
    "     102 106 110 114 118 122 126 130 134 138 142 146 150 154 158 162 166 170\n",
    "     174 178 182 186 190 194 198 202 206 210 214 218 222 226 230 234 238 242\n",
    "     246 250 254 258 262 266 270 274 278 282 286 290 294 298 302 306 310 314\n",
    "     318 322 326 330 334 338 342 346 350 354 358 362 366 370 374 378 382 386]\n",
    "    [46 54 62]\n",
    "    [ 46  54  62  70  78  86  94 102 110 118 126 134 142 150 158 166 174 182\n",
    "     190 198 206 214 222 230 238 246 254 262 270 278 286 294 302 310 318 326\n",
    "     334 342 350 358 366 374 382 390 398]\n",
    "    [398 394 390 386 382 378 374 370 366 362 358 354 350 346 342 338 334 330\n",
    "     326 322 318 314 310 306 302 298 294 290 286 282 278 274 270 266 262 258\n",
    "     254 250 246 242 238 234 230 226 222 218 214 210 206 202 198 194 190 186\n",
    "     182 178 174 170 166 162 158 154 150 146 142 138 134 130 126 122 118 114\n",
    "     110 106 102  98  94  90  86  82  78  74  70  66  62  58  54  50  46  42\n",
    "      38  34  30]\n",
    "    [398 390 382 374 366 358 350 342 334 326 318 310 302 294 286 278 270 262\n",
    "     254 246 238 230 222 214 206 198 190 182 174 166 158 150 142 134 126 118\n",
    "     110 102  94  86  78  70  62  54  46  38  30]"
   ]
  },
  {
   "cell_type": "markdown",
   "id": "651fa957",
   "metadata": {},
   "source": [
    "### Element-Zugriff bei multidimensionalen Arrays"
   ]
  },
  {
   "cell_type": "code",
   "execution_count": null,
   "id": "bc4517d0",
   "metadata": {},
   "outputs": [],
   "source": [
    "# auf bereiche zugreifen"
   ]
  },
  {
   "cell_type": "markdown",
   "id": "7599ff73",
   "metadata": {},
   "source": [
    "### egal wie viele Dimensionen"
   ]
  },
  {
   "cell_type": "code",
   "execution_count": null,
   "id": "ba0c9721",
   "metadata": {},
   "outputs": [],
   "source": [
    "# boolsche Indizes"
   ]
  }
 ],
 "metadata": {
  "jupytext": {
   "cell_metadata_filter": "-all",
   "formats": "md,ipynb",
   "notebook_metadata_filter": "-all"
  },
  "kernelspec": {
   "display_name": "Python 3 (ipykernel)",
   "language": "python",
   "name": "python3"
  },
  "language_info": {
   "codemirror_mode": {
    "name": "ipython",
    "version": 3
   },
   "file_extension": ".py",
   "mimetype": "text/x-python",
   "name": "python",
   "nbconvert_exporter": "python",
   "pygments_lexer": "ipython3",
   "version": "3.9.11"
  }
 },
 "nbformat": 4,
 "nbformat_minor": 5
}

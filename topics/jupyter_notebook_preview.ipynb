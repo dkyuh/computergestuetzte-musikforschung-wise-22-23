{
 "cells": [
  {
   "cell_type": "markdown",
   "metadata": {},
   "source": [
    "In Codeblocks kann jeglicher Python-Code ausgeführt werden:"
   ]
  },
  {
   "cell_type": "code",
   "execution_count": 2,
   "metadata": {
    "colab": {
     "base_uri": "https://localhost:8080/"
    },
    "id": "5Ixd_5fEnbTe",
    "outputId": "05cf599c-87aa-4b4c-f84d-960594d54de7"
   },
   "outputs": [
    {
     "data": {
      "text/plain": [
       "4"
      ]
     },
     "execution_count": 2,
     "metadata": {},
     "output_type": "execute_result"
    }
   ],
   "source": [
    "2 + 2"
   ]
  },
  {
   "cell_type": "code",
   "execution_count": 3,
   "metadata": {
    "colab": {
     "base_uri": "https://localhost:8080/"
    },
    "id": "OyhMZa_knxnx",
    "outputId": "047719ce-668a-410b-d776-0024c9b67000"
   },
   "outputs": [
    {
     "data": {
      "text/plain": [
       "0.75"
      ]
     },
     "execution_count": 3,
     "metadata": {},
     "output_type": "execute_result"
    }
   ],
   "source": [
    "# ausgegeben wird nur die letzte zeile\n",
    "\n",
    "10 + 149\n",
    "\n",
    "10 * 4499\n",
    "\n",
    "75 / 100"
   ]
  },
  {
   "cell_type": "code",
   "execution_count": 5,
   "metadata": {
    "colab": {
     "base_uri": "https://localhost:8080/"
    },
    "id": "wENKLblEoAEw",
    "outputId": "07757a6e-c0d8-4d08-ede2-8b0061f20918"
   },
   "outputs": [
    {
     "name": "stdout",
     "output_type": "stream",
     "text": [
      "159\n",
      "44990\n",
      "0.75\n"
     ]
    }
   ],
   "source": [
    "# `print`, um alles auszugeben\n",
    "\n",
    "print(10 + 149)\n",
    "\n",
    "print(10 * 4499)\n",
    "\n",
    "print(75 / 100)"
   ]
  },
  {
   "cell_type": "markdown",
   "metadata": {
    "id": "o0H4JnGvoNh4"
   },
   "source": [
    "## Numpy"
   ]
  },
  {
   "cell_type": "code",
   "execution_count": 10,
   "metadata": {
    "id": "RT77lxtloH9S"
   },
   "outputs": [],
   "source": [
    "import numpy as np"
   ]
  },
  {
   "cell_type": "code",
   "execution_count": 7,
   "metadata": {
    "id": "JX0BXl7xoTCY"
   },
   "outputs": [],
   "source": [
    "# -1 <-> 1\n",
    "\n",
    "#    audio - sample\n",
    "#         |\n",
    "#         v\n",
    "# [0.1, -0.4, 0.3, 0.8]"
   ]
  },
  {
   "cell_type": "code",
   "execution_count": 8,
   "metadata": {
    "colab": {
     "base_uri": "https://localhost:8080/"
    },
    "id": "wEIjYNf2pASn",
    "outputId": "9335bbb7-c003-4c3a-92ea-edcb4a2be147"
   },
   "outputs": [
    {
     "data": {
      "text/plain": [
       "[0.1, -0.4, 0.3, 0.8]"
      ]
     },
     "execution_count": 8,
     "metadata": {},
     "output_type": "execute_result"
    }
   ],
   "source": [
    "# Liste\n",
    "\n",
    "[0.1, -0.4, 0.3, 0.8]"
   ]
  },
  {
   "cell_type": "code",
   "execution_count": 11,
   "metadata": {
    "colab": {
     "base_uri": "https://localhost:8080/"
    },
    "id": "lsnaTUEYpCr9",
    "outputId": "697c4598-8e87-48f3-f71a-022fc2739fac"
   },
   "outputs": [
    {
     "data": {
      "text/plain": [
       "array([ 0.1, -0.4,  0.3,  0.8])"
      ]
     },
     "execution_count": 11,
     "metadata": {},
     "output_type": "execute_result"
    }
   ],
   "source": [
    "# elementweise\n",
    "\n",
    "np.array([0.1, -0.4, 0.3, 0.8])"
   ]
  }
 ],
 "metadata": {
  "colab": {
   "collapsed_sections": [],
   "provenance": []
  },
  "jupytext": {
   "formats": "ipynb,md"
  },
  "kernelspec": {
   "display_name": "Python 3 (ipykernel)",
   "language": "python",
   "name": "python3"
  },
  "language_info": {
   "codemirror_mode": {
    "name": "ipython",
    "version": 3
   },
   "file_extension": ".py",
   "mimetype": "text/x-python",
   "name": "python",
   "nbconvert_exporter": "python",
   "pygments_lexer": "ipython3",
   "version": "3.9.11"
  }
 },
 "nbformat": 4,
 "nbformat_minor": 1
}

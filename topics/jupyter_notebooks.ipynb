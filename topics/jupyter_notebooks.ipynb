{
 "cells": [
  {
   "cell_type": "markdown",
   "id": "d39fdb72",
   "metadata": {},
   "source": [
    "# Jupyter Notebooks (Tips & Tricks)"
   ]
  },
  {
   "cell_type": "markdown",
   "id": "73e185e0",
   "metadata": {},
   "source": [
    "## Shell Commands im Notebook ausführen"
   ]
  },
  {
   "cell_type": "code",
   "execution_count": null,
   "id": "dafca725",
   "metadata": {},
   "outputs": [],
   "source": [
    "!pwd"
   ]
  },
  {
   "cell_type": "markdown",
   "id": "31c857d0",
   "metadata": {},
   "source": [
    "## Installation von libraries für's richtige Python"
   ]
  },
  {
   "cell_type": "code",
   "execution_count": null,
   "id": "75f95e14",
   "metadata": {},
   "outputs": [],
   "source": [
    "import sys\n",
    "\n",
    "!{sys.executable} -m pip install matplotlib"
   ]
  }
 ],
 "metadata": {
  "kernelspec": {
   "display_name": "Python 3 (ipykernel)",
   "language": "python",
   "name": "python3"
  },
  "language_info": {
   "codemirror_mode": {
    "name": "ipython",
    "version": 3
   },
   "file_extension": ".py",
   "mimetype": "text/x-python",
   "name": "python",
   "nbconvert_exporter": "python",
   "pygments_lexer": "ipython3",
   "version": "3.9.11"
  }
 },
 "nbformat": 4,
 "nbformat_minor": 5
}

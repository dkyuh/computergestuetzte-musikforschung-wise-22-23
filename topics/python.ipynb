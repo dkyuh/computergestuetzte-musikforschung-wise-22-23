{
 "cells": [
  {
   "cell_type": "markdown",
   "id": "abfcb7b8",
   "metadata": {},
   "source": [
    "# Python\n",
    "\n",
    "## Nützliche Funktionen für `for`-loops\n",
    "\n",
    "### `enumerate`"
   ]
  },
  {
   "cell_type": "code",
   "execution_count": null,
   "id": "adb2829d",
   "metadata": {},
   "outputs": [],
   "source": [
    "l = [100, 40, 1000, 20]\n",
    "\n",
    "for i, el in enumerate(l): # ueber liste iterieren und index erhalten\n",
    "    print(i, el)"
   ]
  },
  {
   "cell_type": "markdown",
   "id": "cbfd40db",
   "metadata": {},
   "source": [
    "    0 100\n",
    "    1 40\n",
    "    2 1000\n",
    "    3 20\n",
    "\n",
    "### `zip`"
   ]
  },
  {
   "cell_type": "code",
   "execution_count": null,
   "id": "b09ff9fd",
   "metadata": {},
   "outputs": [],
   "source": [
    "l_1 = [1, 2, 3]\n",
    "l_2 = [10, 20, 30]\n",
    "\n",
    "for el_1, el_2 in zip(l_1, l_2): \n",
    "    print(el_1, el_2)"
   ]
  },
  {
   "cell_type": "markdown",
   "id": "45cdd411",
   "metadata": {},
   "source": [
    "    1 10\n",
    "    2 20\n",
    "    3 30\n",
    "\n",
    "## List comprehensions\n",
    "\n",
    "List comprehensions bieten eine einfache Syntax, wie eine Abkürzung von `for`-Loops.\n",
    "\n",
    "Beispielsweise, anstatt eines klassischen `for`-Loops"
   ]
  },
  {
   "cell_type": "code",
   "execution_count": null,
   "id": "79ac1a7c",
   "metadata": {},
   "outputs": [],
   "source": [
    "l = [2, 54, 34, 12, 22, 21, 7, 46]\n",
    "new_l = []\n",
    "\n",
    "for el in l:\n",
    "    if el > 20:\n",
    "        new_l.append(el)\n",
    "\n",
    "new_l"
   ]
  },
  {
   "cell_type": "markdown",
   "id": "a9526548",
   "metadata": {},
   "source": [
    "\t[54, 34, 22, 21, 46]"
   ]
  },
  {
   "cell_type": "markdown",
   "id": "56842fb9",
   "metadata": {},
   "source": [
    "können wir folgendes schreiben:"
   ]
  },
  {
   "cell_type": "code",
   "execution_count": null,
   "id": "ae153347",
   "metadata": {},
   "outputs": [],
   "source": [
    "l = [2, 54, 34, 12, 22, 21, 7, 46]\n",
    "new_l = [el for el in l if el > 20]\n",
    "\n",
    "new_l"
   ]
  },
  {
   "cell_type": "markdown",
   "id": "86c947eb",
   "metadata": {},
   "source": [
    "\t[54, 34, 22, 21, 46]"
   ]
  },
  {
   "cell_type": "markdown",
   "id": "e9253a21",
   "metadata": {},
   "source": [
    "Interessanter Artikel, ob list comprehensions schneller sind als for loops: ^[[List Comprehensions vs. For Loops: It is not what you think | Towards Data Science](https://towardsdatascience.com/list-comprehensions-vs-for-loops-it-is-not-what-you-think-34071d4d8207)]\n"
   ]
  }
 ],
 "metadata": {
  "jupytext": {
   "cell_metadata_filter": "-all",
   "formats": "md,ipynb",
   "notebook_metadata_filter": "-all"
  },
  "kernelspec": {
   "display_name": "Python 3 (ipykernel)",
   "language": "python",
   "name": "python3"
  },
  "language_info": {
   "codemirror_mode": {
    "name": "ipython",
    "version": 3
   },
   "file_extension": ".py",
   "mimetype": "text/x-python",
   "name": "python",
   "nbconvert_exporter": "python",
   "pygments_lexer": "ipython3",
   "version": "3.9.11"
  }
 },
 "nbformat": 4,
 "nbformat_minor": 5
}

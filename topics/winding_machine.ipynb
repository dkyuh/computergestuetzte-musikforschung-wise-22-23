{
 "cells": [
  {
   "cell_type": "code",
   "execution_count": 1,
   "id": "d3b02c2a",
   "metadata": {},
   "outputs": [],
   "source": [
    "import numpy as np\n",
    "import matplotlib.pyplot as plt"
   ]
  },
  {
   "cell_type": "code",
   "execution_count": 4,
   "id": "bd31f209",
   "metadata": {},
   "outputs": [],
   "source": [
    "t = np.linspace(0, 1, 100)\n",
    "freq1, freq2 = 2, 5\n",
    "x = (np.sin(t * 2 * np.pi * freq1) * 0.5) + (np.sin(t * 2 * np.pi * freq2) * 0.5)\n",
    "\n",
    "winding_freqs = np.linspace(0, 7, 100)\n",
    "cems = np.zeros_like(winding_freqs, dtype=complex)\n",
    "\n",
    "for i, winding_freq in enumerate(winding_freqs):\n",
    "    e_ = np.exp(t * 2 * np.pi * -1j * winding_freq)\n",
    "    prod = e_ * x\n",
    "    cems[i] = np.mean(prod) # center of mass\n",
    "\n",
    "    \n",
    "    ##############################################################################\n",
    "    # plot\n",
    "    ##############################################################################\n",
    "\n",
    "    plt.figure(figsize=(5 * 3, 5 * 1))\n",
    "    p1 = plt.subplot(1, 3, 1)\n",
    "    p2 = plt.subplot(1, 3, 2)\n",
    "    p3 = plt.subplot(1, 3, 3)\n",
    "    cm = plt.get_cmap('viridis')\n",
    "\n",
    "    for prodx, tx, color in zip(prod, t, cm(t)):\n",
    "        p1.plot(prodx.real, prodx.imag, 'o', color=color)\n",
    "    p1.set_xlim(-1, 1)\n",
    "    p1.set_ylim(-1, 1)\n",
    "    p1.plot([0, cems[i].real], [0, cems[i].imag], color=[1, 0, 0, 1])\n",
    "\n",
    "    p2.plot(t, x, 'o-')\n",
    "    p2.plot(t, np.cos(t * 2 * np.pi * winding_freq + np.angle(cems[i])))\n",
    "    p2.set_ylim(-1, 1)\n",
    "\n",
    "    p3.plot(winding_freqs, np.abs(cems))\n",
    "\n",
    "    plt.tight_layout()\n",
    "#     plt.savefig('./winding_render/wr_%03i.png' % (i))\n",
    "    plt.show()"
   ]
  }
 ],
 "metadata": {
  "kernelspec": {
   "display_name": "Python 3 (ipykernel)",
   "language": "python",
   "name": "python3"
  },
  "language_info": {
   "codemirror_mode": {
    "name": "ipython",
    "version": 3
   },
   "file_extension": ".py",
   "mimetype": "text/x-python",
   "name": "python",
   "nbconvert_exporter": "python",
   "pygments_lexer": "ipython3",
   "version": "3.9.11"
  },
  "toc": {
   "base_numbering": 1,
   "nav_menu": {},
   "number_sections": true,
   "sideBar": true,
   "skip_h1_title": false,
   "title_cell": "Table of Contents",
   "title_sidebar": "Contents",
   "toc_cell": false,
   "toc_position": {},
   "toc_section_display": true,
   "toc_window_display": false
  },
  "varInspector": {
   "cols": {
    "lenName": 16,
    "lenType": 16,
    "lenVar": 40
   },
   "kernels_config": {
    "python": {
     "delete_cmd_postfix": "",
     "delete_cmd_prefix": "del ",
     "library": "var_list.py",
     "varRefreshCmd": "print(var_dic_list())"
    },
    "r": {
     "delete_cmd_postfix": ") ",
     "delete_cmd_prefix": "rm(",
     "library": "var_list.r",
     "varRefreshCmd": "cat(var_dic_list()) "
    }
   },
   "types_to_exclude": [
    "module",
    "function",
    "builtin_function_or_method",
    "instance",
    "_Feature"
   ],
   "window_display": false
  }
 },
 "nbformat": 4,
 "nbformat_minor": 5
}
